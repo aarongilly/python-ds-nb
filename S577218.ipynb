{
 "cells": [
  {
   "cell_type": "markdown",
   "id": "c3b55aac",
   "metadata": {},
   "source": [
    "# Simple supplemental Jupyter Notebook\n",
    "\n",
    "- name: Aaron Gillespie\n",
    "\n",
    "Per assigment instructions, this Jupyter notebook is quite small. It draws a little ASCII art pattern."
   ]
  },
  {
   "cell_type": "markdown",
   "id": "c774f1fa",
   "metadata": {},
   "source": [
    "## Simple Loop Drawing a Triangle in Negative Space"
   ]
  },
  {
   "cell_type": "code",
   "execution_count": 6,
   "id": "5a66a7f4",
   "metadata": {},
   "outputs": [
    {
     "name": "stdout",
     "output_type": "stream",
     "text": [
      "*      *\n",
      "**    **\n",
      "***  ***\n",
      "********\n"
     ]
    }
   ],
   "source": [
    "# Python using loops to draw the desired pattern\n",
    "\n",
    "for i in range(1, 5):\n",
    "    myString = '*' * i + ' ' * (4 - i) + ' ' * (4 - i) + '*' * i\n",
    "    print(myString)"
   ]
  }
 ],
 "metadata": {
  "kernelspec": {
   "display_name": ".venv",
   "language": "python",
   "name": "python3"
  },
  "language_info": {
   "codemirror_mode": {
    "name": "ipython",
    "version": 3
   },
   "file_extension": ".py",
   "mimetype": "text/x-python",
   "name": "python",
   "nbconvert_exporter": "python",
   "pygments_lexer": "ipython3",
   "version": "3.13.1"
  }
 },
 "nbformat": 4,
 "nbformat_minor": 5
}
